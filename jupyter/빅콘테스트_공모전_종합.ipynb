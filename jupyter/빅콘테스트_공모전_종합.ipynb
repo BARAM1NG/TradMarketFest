{
 "cells": [
  {
   "cell_type": "code",
   "execution_count": 3,
   "id": "0058bbd9-2343-4457-9054-3b4efc366688",
   "metadata": {},
   "outputs": [],
   "source": [
    "# 필요한 라이브러리 임포트\n",
    "import pandas as pd\n",
    "import numpy as np\n",
    "import matplotlib.pyplot as plt"
   ]
  },
  {
   "cell_type": "markdown",
   "id": "a62464ff-3fc8-449e-9d9d-b30d8be4a799",
   "metadata": {},
   "source": [
    "# 데이터 준비"
   ]
  },
  {
   "cell_type": "code",
   "execution_count": 4,
   "id": "4a11481d-620d-4c98-bf85-6bb28d4df2eb",
   "metadata": {},
   "outputs": [
    {
     "name": "stdout",
     "output_type": "stream",
     "text": [
      "/Users/baeahram/Desktop/2024 빅콘테스트 공모전\n"
     ]
    },
    {
     "name": "stderr",
     "output_type": "stream",
     "text": [
      "/opt/homebrew/Caskroom/miniconda/base/lib/python3.11/site-packages/IPython/core/magics/osm.py:417: UserWarning: using dhist requires you to install the `pickleshare` library.\n",
      "  self.shell.db['dhist'] = compress_dhist(dhist)[-100:]\n"
     ]
    }
   ],
   "source": [
    "cd '/Users/baeahram/Desktop/2024 빅콘테스트 공모전'"
   ]
  },
  {
   "cell_type": "code",
   "execution_count": 5,
   "id": "9e702082-7306-4d0b-91ce-12f6305e58dc",
   "metadata": {},
   "outputs": [
    {
     "data": {
      "text/plain": [
       "'/Users/baeahram/Desktop/2024 빅콘테스트 공모전'"
      ]
     },
     "execution_count": 5,
     "metadata": {},
     "output_type": "execute_result"
    }
   ],
   "source": [
    "pwd"
   ]
  },
  {
   "cell_type": "code",
   "execution_count": 6,
   "id": "696cfa85-b9c2-4fe8-8bb0-9e4ab34aaa02",
   "metadata": {},
   "outputs": [],
   "source": [
    "###### pass ######\n",
    "\n",
    "# stay & od 데이터 병합 함수\n",
    "\n",
    "# 전역 변수로 사용할 병합된 데이터프레임\n",
    "od_09_10 = None\n",
    "od_09_20 = None\n",
    "od_09_30 = None\n",
    "od_10_15 = None\n",
    "\n",
    "def merge_od_files(file_list, global_var_name):\n",
    "    \"\"\"\n",
    "    주어진 파일 경로 목록을 받아 CSV 파일을 병합하여 전역 변수에 저장하는 함수.\n",
    "\n",
    "    Parameters:\n",
    "    - file_list (list): 병합할 CSV 파일 경로들의 리스트.\n",
    "    - global_var_name (str): 저장할 전역 변수 이름.\n",
    "\n",
    "    Returns:\n",
    "    - None\n",
    "    \"\"\"\n",
    "    global od_09_10, od_09_20, od_09_30, od_10_15  # 전역 변수 사용 선언\n",
    "    \n",
    "    # 각 파일을 읽고 병합\n",
    "    df_list = [pd.read_csv(file) for file in file_list]\n",
    "    merged_df = pd.concat(df_list, ignore_index=True)\n",
    "    \n",
    "    # 해당 전역 변수에 병합된 데이터를 저장\n",
    "    if global_var_name == 'od_09_10':\n",
    "        od_09_10 = merged_df\n",
    "    elif global_var_name == 'od_09_20':\n",
    "        od_09_20 = merged_df\n",
    "    elif global_var_name == 'od_09_30':\n",
    "        od_09_30 = merged_df\n",
    "    elif global_var_name == 'od_10_15':\n",
    "        od_10_15 = merged_df\n",
    "    \n",
    "    print(f\"파일들이 {global_var_name}에 병합되었습니다.\")\n",
    "\n",
    "\n",
    "# 전역 변수로 사용할 병합된 데이터프레임\n",
    "stay_09_10 = None\n",
    "stay_09_20 = None\n",
    "stay_09_30 = None\n",
    "stay_10_15 = None\n",
    "\n",
    "def merge_stay_files(file_list, global_var_name):\n",
    "    \"\"\"\n",
    "    주어진 파일 경로 목록을 받아 CSV 파일을 병합하여 전역 변수에 저장하는 함수.\n",
    "\n",
    "    Parameters:\n",
    "    - file_list (list): 병합할 CSV 파일 경로들의 리스트.\n",
    "    - global_var_name (str): 저장할 전역 변수 이름.\n",
    "\n",
    "    Returns:\n",
    "    - None\n",
    "    \"\"\"\n",
    "    global stay_09_10, stay_09_20, stay_09_30, stay_10_15  # 전역 변수 사용 선언\n",
    "    \n",
    "    # 각 파일을 읽고 병합\n",
    "    df_list = [pd.read_csv(file) for file in file_list]\n",
    "    merged_df = pd.concat(df_list, ignore_index=True)\n",
    "    \n",
    "    # 해당 전역 변수에 병합된 데이터를 저장\n",
    "    if global_var_name == 'stay_09_10':\n",
    "        stay_09_10 = merged_df\n",
    "    elif global_var_name == 'stay_09_20':\n",
    "        stay_09_20 = merged_df\n",
    "    elif global_var_name == 'stay_09_30':\n",
    "        stay_09_30 = merged_df\n",
    "    elif global_var_name == 'stay_10_15':\n",
    "        stay_10_15 = merged_df\n",
    "\n",
    "    \n",
    "    print(f\"파일들이 {global_var_name}에 병합되었습니다.\")\n",
    "\n",
    "od_list_09_10 = [f'data/od_20230901_10/od_202309{str(i).zfill(2)}_1.csv' for i in range(1, 11)]\n",
    "od_list_09_20 = [f'data/od_20230911_20/od_202309{str(i).zfill(2)}_1.csv' for i in range(11, 21)]\n",
    "od_list_09_30 = [f'data/od_20230921_30/od_202309{str(i).zfill(2)}_1.csv' for i in range(21, 31)]\n",
    "od_list_10_15 = [f'data/od_20231001_15/od_202310{str(i).zfill(2)}_1.csv' for i in range(1, 16)]\n",
    "stay_list_09_10 = [f'data/stay_20230901_10/stay_202309{str(i).zfill(2)}_1.csv' for i in range(1, 11)]\n",
    "stay_list_09_20 = [f'data/stay_20230911_20/stay_202309{str(i).zfill(2)}_1.csv' for i in range(11, 21)]\n",
    "stay_list_09_30 = [f'data/stay_20230921_30/stay_202309{str(i).zfill(2)}_1.csv' for i in range(21, 31)]\n",
    "stay_list_10_15 = [f'data/stay_20231001_15/stay_202310{str(i).zfill(2)}_1.csv' for i in range(1, 16)]\n",
    "merge_od_files(od_list_09_10, 'od_09_10')\n",
    "merge_od_files(od_list_09_20, 'od_09_20')\n",
    "merge_od_files(od_list_09_30, 'od_09_30')\n",
    "merge_od_files(od_list_10_15, 'od_10_15')\n",
    "merge_stay_files(stay_list_09_10, 'stay_09_10')\n",
    "merge_stay_files(stay_list_09_20, 'stay_09_20')\n",
    "merge_stay_files(stay_list_09_30, 'stay_09_30')\n",
    "merge_stay_files(stay_list_10_15, 'stay_10_15')"
   ]
  },
  {
   "cell_type": "code",
   "execution_count": 10,
   "id": "e9365f7c-ea91-454e-b444-fa4b6b650a38",
   "metadata": {},
   "outputs": [
    {
     "data": {
      "text/plain": [
       "'merged_od = pd.concat([od_09_10, od_09_20, od_09_20], ignore_index = True)\\nmerged_stay = pd.concat([stay_09_15, stay_09_15, stay_10_15], ignore_index = True)'"
      ]
     },
     "execution_count": 10,
     "metadata": {},
     "output_type": "execute_result"
    }
   ],
   "source": [
    "# 파일 전체 병합\n",
    "# 병합은 안하는게 좋을 것 같다. 데이터가 너무 많아서 단순한 기초 통계조차 속도가 너무 느림\n",
    "'''merged_od = pd.concat([od_09_10, od_09_20, od_09_20], ignore_index = True)\n",
    "merged_stay = pd.concat([stay_09_15, stay_09_15, stay_10_15], ignore_index = True)'''"
   ]
  },
  {
   "cell_type": "code",
   "execution_count": 6,
   "id": "b1c811a0-30ed-4953-9dcd-3425c3b200e9",
   "metadata": {},
   "outputs": [],
   "source": [
    "# 데이터 바로 불러오기\n",
    "\n",
    "od_list_09_10 = pd.read_csv('data/od_20230901_10.csv')\n",
    "od_list_09_20 = pd.read_csv('data/od_20230911_20.csv')\n",
    "od_list_09_30 = pd.read_csv('data/od_20230921_30.csv')\n",
    "od_list_10_15 = pd.read_csv('data/od_20231001_15.csv')\n",
    "stay_list_09_10 = pd.read_csv('data/stay_20230901_10.csv')\n",
    "stay_list_09_20 = pd.read_csv('data/stay_20230911_20.csv')\n",
    "stay_list_09_30 = pd.read_csv('data/stay_20230921_30.csv')\n",
    "stay_list_10_15 = pd.read_csv('data/stay_20231001_15.csv')"
   ]
  },
  {
   "cell_type": "markdown",
   "id": "4db4b336-a44e-440e-ae99-bd690214c97f",
   "metadata": {},
   "source": [
    "# EDA"
   ]
  },
  {
   "cell_type": "code",
   "execution_count": 12,
   "id": "d6900999-2da0-4172-b59b-1c4cfd92b8b9",
   "metadata": {},
   "outputs": [
    {
     "data": {
      "text/plain": [
       "Unnamed: 0             0\n",
       "origin_hdong_cd        0\n",
       "dest_hdong_cd          0\n",
       "date                   0\n",
       "start_time             0\n",
       "end_time               0\n",
       "gender                 0\n",
       "age                    0\n",
       "modal                409\n",
       "origin_purpose     19171\n",
       "dest_purpose           0\n",
       "od_dist_avg            0\n",
       "od_duration_avg        0\n",
       "od_cnts                0\n",
       "dtype: int64"
      ]
     },
     "execution_count": 12,
     "metadata": {},
     "output_type": "execute_result"
    }
   ],
   "source": [
    "# modal, origin_purpose에 null 값 존재. -> 뭘로 대체하는게 좋을까?\n",
    "od_list_09_30.isnull().sum()"
   ]
  },
  {
   "cell_type": "code",
   "execution_count": 13,
   "id": "cca20ed4-ac31-4af8-b05d-9e6242f8a7c9",
   "metadata": {},
   "outputs": [
    {
     "data": {
      "text/html": [
       "<div>\n",
       "<style scoped>\n",
       "    .dataframe tbody tr th:only-of-type {\n",
       "        vertical-align: middle;\n",
       "    }\n",
       "\n",
       "    .dataframe tbody tr th {\n",
       "        vertical-align: top;\n",
       "    }\n",
       "\n",
       "    .dataframe thead th {\n",
       "        text-align: right;\n",
       "    }\n",
       "</style>\n",
       "<table border=\"1\" class=\"dataframe\">\n",
       "  <thead>\n",
       "    <tr style=\"text-align: right;\">\n",
       "      <th></th>\n",
       "      <th>Unnamed: 0</th>\n",
       "      <th>origin_hdong_cd</th>\n",
       "      <th>dest_hdong_cd</th>\n",
       "      <th>date</th>\n",
       "      <th>gender</th>\n",
       "      <th>age</th>\n",
       "      <th>modal</th>\n",
       "      <th>origin_purpose</th>\n",
       "      <th>dest_purpose</th>\n",
       "      <th>od_dist_avg</th>\n",
       "      <th>od_duration_avg</th>\n",
       "      <th>od_cnts</th>\n",
       "    </tr>\n",
       "  </thead>\n",
       "  <tbody>\n",
       "    <tr>\n",
       "      <th>count</th>\n",
       "      <td>3.576812e+07</td>\n",
       "      <td>3.576812e+07</td>\n",
       "      <td>3.576812e+07</td>\n",
       "      <td>3.576812e+07</td>\n",
       "      <td>3.576812e+07</td>\n",
       "      <td>3.576812e+07</td>\n",
       "      <td>3.576772e+07</td>\n",
       "      <td>3.574895e+07</td>\n",
       "      <td>3.576812e+07</td>\n",
       "      <td>3.576812e+07</td>\n",
       "      <td>3.576812e+07</td>\n",
       "      <td>3.576812e+07</td>\n",
       "    </tr>\n",
       "    <tr>\n",
       "      <th>mean</th>\n",
       "      <td>1.788406e+07</td>\n",
       "      <td>3.389068e+09</td>\n",
       "      <td>3.420153e+09</td>\n",
       "      <td>2.023093e+07</td>\n",
       "      <td>5.115773e-01</td>\n",
       "      <td>2.818256e+00</td>\n",
       "      <td>6.541194e-01</td>\n",
       "      <td>1.688034e+00</td>\n",
       "      <td>1.786260e+00</td>\n",
       "      <td>3.850222e+04</td>\n",
       "      <td>4.026020e+01</td>\n",
       "      <td>8.243969e+00</td>\n",
       "    </tr>\n",
       "    <tr>\n",
       "      <th>std</th>\n",
       "      <td>1.032537e+07</td>\n",
       "      <td>1.294991e+09</td>\n",
       "      <td>1.285330e+09</td>\n",
       "      <td>2.871422e+00</td>\n",
       "      <td>4.998660e-01</td>\n",
       "      <td>1.625451e+00</td>\n",
       "      <td>1.333780e+00</td>\n",
       "      <td>1.984611e+00</td>\n",
       "      <td>2.034940e+00</td>\n",
       "      <td>7.757256e+04</td>\n",
       "      <td>4.830773e+01</td>\n",
       "      <td>6.493017e+00</td>\n",
       "    </tr>\n",
       "    <tr>\n",
       "      <th>min</th>\n",
       "      <td>0.000000e+00</td>\n",
       "      <td>1.111052e+09</td>\n",
       "      <td>1.111052e+09</td>\n",
       "      <td>2.023092e+07</td>\n",
       "      <td>0.000000e+00</td>\n",
       "      <td>0.000000e+00</td>\n",
       "      <td>0.000000e+00</td>\n",
       "      <td>0.000000e+00</td>\n",
       "      <td>0.000000e+00</td>\n",
       "      <td>1.000000e+02</td>\n",
       "      <td>1.000000e+00</td>\n",
       "      <td>5.000000e+00</td>\n",
       "    </tr>\n",
       "    <tr>\n",
       "      <th>25%</th>\n",
       "      <td>8.942031e+06</td>\n",
       "      <td>2.647062e+09</td>\n",
       "      <td>2.650075e+09</td>\n",
       "      <td>2.023092e+07</td>\n",
       "      <td>0.000000e+00</td>\n",
       "      <td>2.000000e+00</td>\n",
       "      <td>0.000000e+00</td>\n",
       "      <td>0.000000e+00</td>\n",
       "      <td>0.000000e+00</td>\n",
       "      <td>4.667000e+03</td>\n",
       "      <td>1.100000e+01</td>\n",
       "      <td>5.000000e+00</td>\n",
       "    </tr>\n",
       "    <tr>\n",
       "      <th>50%</th>\n",
       "      <td>1.788406e+07</td>\n",
       "      <td>4.113162e+09</td>\n",
       "      <td>4.113552e+09</td>\n",
       "      <td>2.023092e+07</td>\n",
       "      <td>1.000000e+00</td>\n",
       "      <td>3.000000e+00</td>\n",
       "      <td>0.000000e+00</td>\n",
       "      <td>0.000000e+00</td>\n",
       "      <td>0.000000e+00</td>\n",
       "      <td>1.311300e+04</td>\n",
       "      <td>2.400000e+01</td>\n",
       "      <td>6.000000e+00</td>\n",
       "    </tr>\n",
       "    <tr>\n",
       "      <th>75%</th>\n",
       "      <td>2.682609e+07</td>\n",
       "      <td>4.482525e+09</td>\n",
       "      <td>4.511171e+09</td>\n",
       "      <td>2.023093e+07</td>\n",
       "      <td>1.000000e+00</td>\n",
       "      <td>4.000000e+00</td>\n",
       "      <td>0.000000e+00</td>\n",
       "      <td>4.000000e+00</td>\n",
       "      <td>4.000000e+00</td>\n",
       "      <td>3.684600e+04</td>\n",
       "      <td>5.000000e+01</td>\n",
       "      <td>9.000000e+00</td>\n",
       "    </tr>\n",
       "    <tr>\n",
       "      <th>max</th>\n",
       "      <td>3.576812e+07</td>\n",
       "      <td>5.183035e+09</td>\n",
       "      <td>5.183035e+09</td>\n",
       "      <td>2.023093e+07</td>\n",
       "      <td>1.000000e+00</td>\n",
       "      <td>8.000000e+00</td>\n",
       "      <td>7.000000e+00</td>\n",
       "      <td>5.000000e+00</td>\n",
       "      <td>5.000000e+00</td>\n",
       "      <td>9.999950e+05</td>\n",
       "      <td>4.800000e+02</td>\n",
       "      <td>8.070000e+02</td>\n",
       "    </tr>\n",
       "  </tbody>\n",
       "</table>\n",
       "</div>"
      ],
      "text/plain": [
       "         Unnamed: 0  origin_hdong_cd  dest_hdong_cd          date  \\\n",
       "count  3.576812e+07     3.576812e+07   3.576812e+07  3.576812e+07   \n",
       "mean   1.788406e+07     3.389068e+09   3.420153e+09  2.023093e+07   \n",
       "std    1.032537e+07     1.294991e+09   1.285330e+09  2.871422e+00   \n",
       "min    0.000000e+00     1.111052e+09   1.111052e+09  2.023092e+07   \n",
       "25%    8.942031e+06     2.647062e+09   2.650075e+09  2.023092e+07   \n",
       "50%    1.788406e+07     4.113162e+09   4.113552e+09  2.023092e+07   \n",
       "75%    2.682609e+07     4.482525e+09   4.511171e+09  2.023093e+07   \n",
       "max    3.576812e+07     5.183035e+09   5.183035e+09  2.023093e+07   \n",
       "\n",
       "             gender           age         modal  origin_purpose  dest_purpose  \\\n",
       "count  3.576812e+07  3.576812e+07  3.576772e+07    3.574895e+07  3.576812e+07   \n",
       "mean   5.115773e-01  2.818256e+00  6.541194e-01    1.688034e+00  1.786260e+00   \n",
       "std    4.998660e-01  1.625451e+00  1.333780e+00    1.984611e+00  2.034940e+00   \n",
       "min    0.000000e+00  0.000000e+00  0.000000e+00    0.000000e+00  0.000000e+00   \n",
       "25%    0.000000e+00  2.000000e+00  0.000000e+00    0.000000e+00  0.000000e+00   \n",
       "50%    1.000000e+00  3.000000e+00  0.000000e+00    0.000000e+00  0.000000e+00   \n",
       "75%    1.000000e+00  4.000000e+00  0.000000e+00    4.000000e+00  4.000000e+00   \n",
       "max    1.000000e+00  8.000000e+00  7.000000e+00    5.000000e+00  5.000000e+00   \n",
       "\n",
       "        od_dist_avg  od_duration_avg       od_cnts  \n",
       "count  3.576812e+07     3.576812e+07  3.576812e+07  \n",
       "mean   3.850222e+04     4.026020e+01  8.243969e+00  \n",
       "std    7.757256e+04     4.830773e+01  6.493017e+00  \n",
       "min    1.000000e+02     1.000000e+00  5.000000e+00  \n",
       "25%    4.667000e+03     1.100000e+01  5.000000e+00  \n",
       "50%    1.311300e+04     2.400000e+01  6.000000e+00  \n",
       "75%    3.684600e+04     5.000000e+01  9.000000e+00  \n",
       "max    9.999950e+05     4.800000e+02  8.070000e+02  "
      ]
     },
     "execution_count": 13,
     "metadata": {},
     "output_type": "execute_result"
    }
   ],
   "source": [
    "od_list_09_30.describe()"
   ]
  },
  {
   "cell_type": "code",
   "execution_count": 8,
   "id": "5d7a23c5-3522-494f-b507-2c1b5c93138a",
   "metadata": {},
   "outputs": [
    {
     "data": {
      "text/plain": [
       "(array([18101424.,        0.,  2734351.,        0.,   588528.,        0.,\n",
       "         2105756.,        0.,  7527838.,  4710228.]),\n",
       " array([0. , 0.5, 1. , 1.5, 2. , 2.5, 3. , 3.5, 4. , 4.5, 5. ]),\n",
       " <BarContainer object of 10 artists>)"
      ]
     },
     "execution_count": 8,
     "metadata": {},
     "output_type": "execute_result"
    },
    {
     "data": {
      "image/png": "[encoded data removed]",
      "text/plain": [
       "<Figure size 640x480 with 1 Axes>"
      ]
     },
     "metadata": {},
     "output_type": "display_data"
    }
   ],
   "source": [
    "# 기초 통계량 확인\n",
    "\n",
    "plt.hist(od_list_09_30['dest_purpose'])"
   ]
  },
  {
   "cell_type": "code",
   "execution_count": null,
   "id": "450309a2-31f2-4973-941c-151de346c539",
   "metadata": {},
   "outputs": [],
   "source": []
  }
 ],
 "metadata": {
  "kernelspec": {
   "display_name": "Python 3 (ipykernel)",
   "language": "python",
   "name": "python3"
  },
  "language_info": {
   "codemirror_mode": {
    "name": "ipython",
    "version": 3
   },
   "file_extension": ".py",
   "mimetype": "text/x-python",
   "name": "python",
   "nbconvert_exporter": "python",
   "pygments_lexer": "ipython3",
   "version": "3.11.5"
  }
 },
 "nbformat": 4,
 "nbformat_minor": 5
}
