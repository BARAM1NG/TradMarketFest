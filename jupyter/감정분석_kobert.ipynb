{
 "cells": [
  {
   "cell_type": "code",
   "execution_count": 7,
   "id": "a142b252-363c-432f-b32e-6fe1c653a3be",
   "metadata": {},
   "outputs": [
    {
     "name": "stdout",
     "output_type": "stream",
     "text": [
      "Requirement already satisfied: mxnet in /opt/homebrew/Caskroom/miniconda/base/lib/python3.11/site-packages (1.6.0)\n",
      "Requirement already satisfied: numpy<2.0.0,>1.16.0 in /opt/homebrew/Caskroom/miniconda/base/lib/python3.11/site-packages (from mxnet) (1.26.4)\n",
      "Requirement already satisfied: requests<3,>=2.20.0 in /opt/homebrew/Caskroom/miniconda/base/lib/python3.11/site-packages (from mxnet) (2.32.3)\n",
      "Requirement already satisfied: graphviz<0.9.0,>=0.8.1 in /opt/homebrew/Caskroom/miniconda/base/lib/python3.11/site-packages (from mxnet) (0.8.4)\n",
      "Requirement already satisfied: charset-normalizer<4,>=2 in /opt/homebrew/Caskroom/miniconda/base/lib/python3.11/site-packages (from requests<3,>=2.20.0->mxnet) (3.3.2)\n",
      "Requirement already satisfied: idna<4,>=2.5 in /opt/homebrew/Caskroom/miniconda/base/lib/python3.11/site-packages (from requests<3,>=2.20.0->mxnet) (3.4)\n",
      "Requirement already satisfied: urllib3<3,>=1.21.1 in /opt/homebrew/Caskroom/miniconda/base/lib/python3.11/site-packages (from requests<3,>=2.20.0->mxnet) (2.2.1)\n",
      "Requirement already satisfied: certifi>=2017.4.17 in /opt/homebrew/Caskroom/miniconda/base/lib/python3.11/site-packages (from requests<3,>=2.20.0->mxnet) (2024.2.2)\n",
      "Requirement already satisfied: gluonnlp in /opt/homebrew/Caskroom/miniconda/base/lib/python3.11/site-packages (0.10.0)\n",
      "Requirement already satisfied: pandas in /opt/homebrew/Caskroom/miniconda/base/lib/python3.11/site-packages (2.1.4)\n",
      "Requirement already satisfied: tqdm in /opt/homebrew/Caskroom/miniconda/base/lib/python3.11/site-packages (4.66.2)\n",
      "Requirement already satisfied: numpy>=1.16.0 in /opt/homebrew/Caskroom/miniconda/base/lib/python3.11/site-packages (from gluonnlp) (1.26.4)\n",
      "Requirement already satisfied: cython in /opt/homebrew/Caskroom/miniconda/base/lib/python3.11/site-packages (from gluonnlp) (3.0.11)\n",
      "Requirement already satisfied: packaging in /opt/homebrew/Caskroom/miniconda/base/lib/python3.11/site-packages (from gluonnlp) (23.2)\n",
      "Requirement already satisfied: python-dateutil>=2.8.2 in /opt/homebrew/Caskroom/miniconda/base/lib/python3.11/site-packages (from pandas) (2.8.2)\n",
      "Requirement already satisfied: pytz>=2020.1 in /opt/homebrew/Caskroom/miniconda/base/lib/python3.11/site-packages (from pandas) (2023.3.post1)\n",
      "Requirement already satisfied: tzdata>=2022.1 in /opt/homebrew/Caskroom/miniconda/base/lib/python3.11/site-packages (from pandas) (2024.1)\n",
      "Requirement already satisfied: six>=1.5 in /opt/homebrew/Caskroom/miniconda/base/lib/python3.11/site-packages (from python-dateutil>=2.8.2->pandas) (1.16.0)\n",
      "Collecting sentencepiece\n",
      "  Downloading sentencepiece-0.2.0-cp311-cp311-macosx_11_0_arm64.whl.metadata (7.7 kB)\n",
      "Downloading sentencepiece-0.2.0-cp311-cp311-macosx_11_0_arm64.whl (1.2 MB)\n",
      "\u001b[2K   \u001b[38;2;114;156;31m━━━━━━━━━━━━━━━━━━━━━━━━━━━━━━━━━━━━━━━━\u001b[0m \u001b[32m1.2/1.2 MB\u001b[0m \u001b[31m14.5 MB/s\u001b[0m eta \u001b[36m0:00:00\u001b[0m31m14.6 MB/s\u001b[0m eta \u001b[36m0:00:01\u001b[0m\n",
      "\u001b[?25hInstalling collected packages: sentencepiece\n",
      "Successfully installed sentencepiece-0.2.0\n",
      "Requirement already satisfied: transformers in /opt/homebrew/Caskroom/miniconda/base/lib/python3.11/site-packages (4.37.2)\n",
      "Requirement already satisfied: filelock in /opt/homebrew/Caskroom/miniconda/base/lib/python3.11/site-packages (from transformers) (3.13.1)\n",
      "Requirement already satisfied: huggingface-hub<1.0,>=0.19.3 in /opt/homebrew/Caskroom/miniconda/base/lib/python3.11/site-packages (from transformers) (0.20.3)\n",
      "Requirement already satisfied: numpy>=1.17 in /opt/homebrew/Caskroom/miniconda/base/lib/python3.11/site-packages (from transformers) (1.26.4)\n",
      "Requirement already satisfied: packaging>=20.0 in /opt/homebrew/Caskroom/miniconda/base/lib/python3.11/site-packages (from transformers) (23.2)\n",
      "Requirement already satisfied: pyyaml>=5.1 in /opt/homebrew/Caskroom/miniconda/base/lib/python3.11/site-packages (from transformers) (6.0.1)\n",
      "Requirement already satisfied: regex!=2019.12.17 in /opt/homebrew/Caskroom/miniconda/base/lib/python3.11/site-packages (from transformers) (2023.12.25)\n",
      "Requirement already satisfied: requests in /opt/homebrew/Caskroom/miniconda/base/lib/python3.11/site-packages (from transformers) (2.32.3)\n",
      "Requirement already satisfied: tokenizers<0.19,>=0.14 in /opt/homebrew/Caskroom/miniconda/base/lib/python3.11/site-packages (from transformers) (0.15.2)\n",
      "Requirement already satisfied: safetensors>=0.4.1 in /opt/homebrew/Caskroom/miniconda/base/lib/python3.11/site-packages (from transformers) (0.4.2)\n",
      "Requirement already satisfied: tqdm>=4.27 in /opt/homebrew/Caskroom/miniconda/base/lib/python3.11/site-packages (from transformers) (4.66.2)\n",
      "Requirement already satisfied: fsspec>=2023.5.0 in /opt/homebrew/Caskroom/miniconda/base/lib/python3.11/site-packages (from huggingface-hub<1.0,>=0.19.3->transformers) (2024.2.0)\n",
      "Requirement already satisfied: typing-extensions>=3.7.4.3 in /opt/homebrew/Caskroom/miniconda/base/lib/python3.11/site-packages (from huggingface-hub<1.0,>=0.19.3->transformers) (4.9.0)\n",
      "Requirement already satisfied: charset-normalizer<4,>=2 in /opt/homebrew/Caskroom/miniconda/base/lib/python3.11/site-packages (from requests->transformers) (3.3.2)\n",
      "Requirement already satisfied: idna<4,>=2.5 in /opt/homebrew/Caskroom/miniconda/base/lib/python3.11/site-packages (from requests->transformers) (3.4)\n",
      "Requirement already satisfied: urllib3<3,>=1.21.1 in /opt/homebrew/Caskroom/miniconda/base/lib/python3.11/site-packages (from requests->transformers) (2.2.1)\n",
      "Requirement already satisfied: certifi>=2017.4.17 in /opt/homebrew/Caskroom/miniconda/base/lib/python3.11/site-packages (from requests->transformers) (2024.2.2)\n",
      "Requirement already satisfied: torch in /opt/homebrew/Caskroom/miniconda/base/lib/python3.11/site-packages (2.4.1)\n",
      "Requirement already satisfied: filelock in /opt/homebrew/Caskroom/miniconda/base/lib/python3.11/site-packages (from torch) (3.13.1)\n",
      "Requirement already satisfied: typing-extensions>=4.8.0 in /opt/homebrew/Caskroom/miniconda/base/lib/python3.11/site-packages (from torch) (4.9.0)\n",
      "Requirement already satisfied: sympy in /opt/homebrew/Caskroom/miniconda/base/lib/python3.11/site-packages (from torch) (1.12)\n",
      "Requirement already satisfied: networkx in /opt/homebrew/Caskroom/miniconda/base/lib/python3.11/site-packages (from torch) (3.2.1)\n",
      "Requirement already satisfied: jinja2 in /opt/homebrew/Caskroom/miniconda/base/lib/python3.11/site-packages (from torch) (3.1.3)\n",
      "Requirement already satisfied: fsspec in /opt/homebrew/Caskroom/miniconda/base/lib/python3.11/site-packages (from torch) (2024.2.0)\n",
      "Requirement already satisfied: MarkupSafe>=2.0 in /opt/homebrew/Caskroom/miniconda/base/lib/python3.11/site-packages (from jinja2->torch) (2.1.5)\n",
      "Requirement already satisfied: mpmath>=0.19 in /opt/homebrew/Caskroom/miniconda/base/lib/python3.11/site-packages (from sympy->torch) (1.3.0)\n"
     ]
    }
   ],
   "source": [
    "# 필요한 library 설치\n",
    "!pip install mxnet\n",
    "!pip install gluonnlp pandas tqdm\n",
    "!pip install sentencepiece\n",
    "!pip install transformers\n",
    "!pip install torch\n",
    "!pip install 'git+https://github.com/SKTBrain/KoBERT.git#egg=kobert_tokenizer&subdirectory=kobert_hf'"
   ]
  },
  {
   "cell_type": "code",
   "execution_count": 5,
   "id": "1c2ec805-0bd8-4eef-9be7-5aa74a5a18a4",
   "metadata": {},
   "outputs": [
    {
     "ename": "ModuleNotFoundError",
     "evalue": "No module named 'kobert'",
     "output_type": "error",
     "traceback": [
      "\u001b[0;31m---------------------------------------------------------------------------\u001b[0m",
      "\u001b[0;31mModuleNotFoundError\u001b[0m                       Traceback (most recent call last)",
      "Cell \u001b[0;32mIn[5], line 2\u001b[0m\n\u001b[1;32m      1\u001b[0m \u001b[38;5;66;03m# koBERT\u001b[39;00m\n\u001b[0;32m----> 2\u001b[0m \u001b[38;5;28;01mfrom\u001b[39;00m \u001b[38;5;21;01mkobert\u001b[39;00m\u001b[38;5;21;01m.\u001b[39;00m\u001b[38;5;21;01mutils\u001b[39;00m \u001b[38;5;28;01mimport\u001b[39;00m get_tokenizer\n\u001b[1;32m      3\u001b[0m \u001b[38;5;28;01mfrom\u001b[39;00m \u001b[38;5;21;01mkobert\u001b[39;00m\u001b[38;5;21;01m.\u001b[39;00m\u001b[38;5;21;01mpytorch_kobert\u001b[39;00m \u001b[38;5;28;01mimport\u001b[39;00m get_pytorch_kobert_model\n\u001b[1;32m      4\u001b[0m \u001b[38;5;66;03m# Transformers\u001b[39;00m\n",
      "\u001b[0;31mModuleNotFoundError\u001b[0m: No module named 'kobert'"
     ]
    }
   ],
   "source": [
    "import pandas as pd\n",
    "# 파인튜닝 데이터 셋\n",
    "ori_t = pd.read_excel('감성대화말뭉치(원시데이터)_Training.xlsx')\n",
    "ori_v = pd.read_excel('감성대화말뭉치(원시데이터)_Validation.xlsx')\n",
    "\n",
    "# 빈 cell 공백 처리\n",
    "ori_t = ori_t.fillna(\"\")\n",
    "ori_v = ori_v.fillna(\"\")\n",
    "\n",
    "ori_t[\"사람문장\"] = ori_t[\"사람문장1\"].astype(str)+ori_t[\"사람문장2\"].astype(str)+ori_t[\"사람문장3\"].astype(str)\n",
    "ori_v[\"사람문장\"] = ori_v[\"사람문장1\"].astype(str)+ori_v[\"사람문장2\"].astype(str)+ori_v[\"사람문장3\"].astype(str)\n",
    "\n",
    "df_concat = pd.concat([ori_t, ori_v])\n",
    "chatbot = df_concat[[\"사람문장\",\"감정_대분류\"]]\n",
    "\n",
    "chatbot = chatbot.rename({\"감정_대분류\": \"Emotion\"}, axis=1)\n",
    "chatbot = chatbot.rename({\"사람문장\": \"Sentence\"}, axis=1)\n",
    "\n",
    "chatbot[\"Emotion\"] = chatbot[\"Emotion\"].apply(lambda x:x.strip())"
   ]
  },
  {
   "cell_type": "code",
   "execution_count": null,
   "id": "5ee65c8a-69fa-486d-add7-23d2f4e6f12b",
   "metadata": {},
   "outputs": [],
   "source": [
    "import torch\n",
    "from torch import nn\n",
    "import torch.nn.functional as F\n",
    "import torch.optim as optim\n",
    "from torch.utils.data import Dataset, DataLoader\n",
    "import gluonnlp as nlp\n",
    "import numpy as np\n",
    "from tqdm import tqdm, tqdm_notebook\n",
    "from kobert_tokenizer import KoBERTTokenizer\n",
    "from transformers import BertModel\n",
    "from transformers import AdamW\n",
    "from transformers.optimization import get_cosine_schedule_with_warmup\n",
    "from sklearn.model_selection import train_test_split"
   ]
  },
  {
   "cell_type": "code",
   "execution_count": null,
   "id": "9fc1233c-7717-4996-ac55-c206d6c9bde4",
   "metadata": {},
   "outputs": [],
   "source": [
    "tokenizer = KoBERTTokenizer.from_pretrained('skt/kobert-base-v1')\n",
    "bertmodel = BertModel.from_pretrained('skt/kobert-base-v1', return_dict=False)\n",
    "vocab = nlp.vocab.BERTVocab.from_sentencepiece(tokenizer.vocab_file, padding_token='[PAD]')"
   ]
  },
  {
   "cell_type": "code",
   "execution_count": null,
   "id": "2a498307-0d17-4ef6-a0aa-fe19e231168a",
   "metadata": {},
   "outputs": [],
   "source": [
    "# 6개의 감정 class -> 숫자\n",
    "chatbot.loc[(chatbot['Emotion']==\"불안\"),'Emotion']= 0 # 불안 => 0\n",
    "chatbot.loc[(chatbot['Emotion']==\"분노\"),'Emotion']= 1 # 분노 => 1\n",
    "chatbot.loc[(chatbot['Emotion']==\"상처\"),'Emotion']= 2 # 상처 => 2\n",
    "chatbot.loc[(chatbot['Emotion']==\"슬픔\"),'Emotion']= 3 # 슬픔 => 3\n",
    "chatbot.loc[(chatbot['Emotion']==\"당황\"),'Emotion']= 4 # 당황 => 4\n",
    "chatbot.loc[(chatbot['Emotion']==\"기쁨\"),'Emotion']= 5 # 기쁨 => 5\n",
    "\n",
    "data_list = [ ]\n",
    "for q, label in zip(chatbot['Sentence'], chatbot['Emotion']):\n",
    "  data = []\n",
    "  data.append(q)\n",
    "  data.append(str(label))\n",
    "\n",
    "  data_list.append(data)\n",
    "\n",
    "print(data)\n",
    "print(data_list[:10])\n"
   ]
  },
  {
   "cell_type": "code",
   "execution_count": null,
   "id": "edabe937-8e0e-480f-98b3-654e8fad25e7",
   "metadata": {},
   "outputs": [],
   "source": [
    "#train & test 데이터로 나누기\n",
    "dataset_train, dataset_test = train_test_split(data_list, test_size = 0.2, shuffle = True, random_state = 32)\n",
    "\n",
    "# 데이터셋 토큰화\n",
    "tokenizer = KoBERTTokenizer.from_pretrained('skt/kobert-base-v1')\n",
    "tok = nlp.data.BERTSPTokenizer(tokenizer, vocab, lower = False)"
   ]
  },
  {
   "cell_type": "code",
   "execution_count": null,
   "id": "f21c5ddc-61b2-447a-871d-93335a1456ba",
   "metadata": {},
   "outputs": [],
   "source": [
    "# BERTSentenceTransform 클래스 정의\n",
    "# BERT 모델에 입력으로 넣기 위한 전처리 과정\n",
    "class BERTDataset(Dataset):\n",
    "    def __init__(self, dataset, sent_idx, label_idx, bert_tokenizer, vocab, max_len,\n",
    "                 pad, pair):\n",
    "        transform = nlp.data.BERTSentenceTransform(\n",
    "            bert_tokenizer, max_seq_length=max_len, vocab=vocab, pad=pad, pair=pair)\n",
    "\n",
    "        self.sentences = [transform([i[sent_idx]]) for i in dataset] # 문장 변환\n",
    "        self.labels = [np.int32(i[label_idx]) for i in dataset] # label 변환\n",
    "\n",
    "    def __getitem__(self, i):\n",
    "        return (self.sentences[i] + (self.labels[i], ))\n",
    "\n",
    "    def __len__(self): # 전체 데이터셋의 길이 반환\n",
    "        return (len(self.labels))"
   ]
  },
  {
   "cell_type": "code",
   "execution_count": null,
   "id": "aceb051c-de15-4980-84b2-3e7af7b99436",
   "metadata": {},
   "outputs": [],
   "source": [
    "# 파라미터 세팅\n",
    "max_len = 64\n",
    "batch_size = 64\n",
    "warmup_ratio = 0.1\n",
    "num_epochs = 5\n",
    "max_grad_norm = 1\n",
    "log_interval = 200\n",
    "learning_rate = 5e-6"
   ]
  }
 ],
 "metadata": {
  "kernelspec": {
   "display_name": "Python 3 (ipykernel)",
   "language": "python",
   "name": "python3"
  },
  "language_info": {
   "codemirror_mode": {
    "name": "ipython",
    "version": 3
   },
   "file_extension": ".py",
   "mimetype": "text/x-python",
   "name": "python",
   "nbconvert_exporter": "python",
   "pygments_lexer": "ipython3",
   "version": "3.11.5"
  }
 },
 "nbformat": 4,
 "nbformat_minor": 5
}
