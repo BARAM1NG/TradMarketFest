{
 "cells": [
  {
   "cell_type": "code",
   "execution_count": null,
   "id": "a7e71951-d3b8-4024-8c68-11eccb08560b",
   "metadata": {},
   "outputs": [],
   "source": [
    "# 참고 URL\n",
    "# https://overface.tistory.com/768"
   ]
  },
  {
   "cell_type": "code",
   "execution_count": 6,
   "id": "364b3b9b-12d3-4ca0-bbc5-50ad8ce6dbf4",
   "metadata": {},
   "outputs": [
    {
     "name": "stdout",
     "output_type": "stream",
     "text": [
      "Requirement already satisfied: torch in /opt/homebrew/Caskroom/miniconda/base/lib/python3.11/site-packages (2.4.1)\n",
      "Requirement already satisfied: torchvision in /opt/homebrew/Caskroom/miniconda/base/lib/python3.11/site-packages (0.19.1)\n",
      "Requirement already satisfied: torchaudio in /opt/homebrew/Caskroom/miniconda/base/lib/python3.11/site-packages (2.4.1)\n",
      "Requirement already satisfied: filelock in /opt/homebrew/Caskroom/miniconda/base/lib/python3.11/site-packages (from torch) (3.13.1)\n",
      "Requirement already satisfied: typing-extensions>=4.8.0 in /opt/homebrew/Caskroom/miniconda/base/lib/python3.11/site-packages (from torch) (4.9.0)\n",
      "Requirement already satisfied: sympy in /opt/homebrew/Caskroom/miniconda/base/lib/python3.11/site-packages (from torch) (1.12)\n",
      "Requirement already satisfied: networkx in /opt/homebrew/Caskroom/miniconda/base/lib/python3.11/site-packages (from torch) (3.2.1)\n",
      "Requirement already satisfied: jinja2 in /opt/homebrew/Caskroom/miniconda/base/lib/python3.11/site-packages (from torch) (3.1.3)\n",
      "Requirement already satisfied: fsspec in /opt/homebrew/Caskroom/miniconda/base/lib/python3.11/site-packages (from torch) (2024.2.0)\n",
      "Requirement already satisfied: numpy in /opt/homebrew/Caskroom/miniconda/base/lib/python3.11/site-packages (from torchvision) (1.26.4)\n",
      "Requirement already satisfied: pillow!=8.3.*,>=5.3.0 in /opt/homebrew/Caskroom/miniconda/base/lib/python3.11/site-packages (from torchvision) (10.2.0)\n",
      "Requirement already satisfied: MarkupSafe>=2.0 in /opt/homebrew/Caskroom/miniconda/base/lib/python3.11/site-packages (from jinja2->torch) (2.1.5)\n",
      "Requirement already satisfied: mpmath>=0.19 in /opt/homebrew/Caskroom/miniconda/base/lib/python3.11/site-packages (from sympy->torch) (1.3.0)\n",
      "Note: you may need to restart the kernel to use updated packages.\n",
      "Collecting yt-dlp\n",
      "  Downloading yt_dlp-2024.9.27-py3-none-any.whl.metadata (171 kB)\n",
      "\u001b[2K     \u001b[38;2;114;156;31m━━━━━━━━━━━━━━━━━━━━━━━━━━━━━━━━━━━━━━━\u001b[0m \u001b[32m171.2/171.2 kB\u001b[0m \u001b[31m1.5 MB/s\u001b[0m eta \u001b[36m0:00:00\u001b[0m[31m1.7 MB/s\u001b[0m eta \u001b[36m0:00:01\u001b[0m\n",
      "\u001b[?25hRequirement already satisfied: brotli in /opt/homebrew/Caskroom/miniconda/base/lib/python3.11/site-packages (from yt-dlp) (1.0.9)\n",
      "Requirement already satisfied: certifi in /opt/homebrew/Caskroom/miniconda/base/lib/python3.11/site-packages (from yt-dlp) (2024.2.2)\n",
      "Collecting mutagen (from yt-dlp)\n",
      "  Downloading mutagen-1.47.0-py3-none-any.whl.metadata (1.7 kB)\n",
      "Collecting pycryptodomex (from yt-dlp)\n",
      "  Downloading pycryptodomex-3.20.0-cp35-abi3-macosx_10_9_universal2.whl.metadata (3.4 kB)\n",
      "Collecting requests<3,>=2.32.2 (from yt-dlp)\n",
      "  Downloading requests-2.32.3-py3-none-any.whl.metadata (4.6 kB)\n",
      "Requirement already satisfied: urllib3<3,>=1.26.17 in /opt/homebrew/Caskroom/miniconda/base/lib/python3.11/site-packages (from yt-dlp) (2.2.1)\n",
      "Collecting websockets>=13.0 (from yt-dlp)\n",
      "  Downloading websockets-13.1-cp311-cp311-macosx_11_0_arm64.whl.metadata (6.8 kB)\n",
      "Requirement already satisfied: charset-normalizer<4,>=2 in /opt/homebrew/Caskroom/miniconda/base/lib/python3.11/site-packages (from requests<3,>=2.32.2->yt-dlp) (3.3.2)\n",
      "Requirement already satisfied: idna<4,>=2.5 in /opt/homebrew/Caskroom/miniconda/base/lib/python3.11/site-packages (from requests<3,>=2.32.2->yt-dlp) (3.4)\n",
      "Downloading yt_dlp-2024.9.27-py3-none-any.whl (3.1 MB)\n",
      "\u001b[2K   \u001b[38;2;114;156;31m━━━━━━━━━━━━━━━━━━━━━━━━━━━━━━━━━━━━━━━━\u001b[0m \u001b[32m3.1/3.1 MB\u001b[0m \u001b[31m8.0 MB/s\u001b[0m eta \u001b[36m0:00:00\u001b[0mm eta \u001b[36m0:00:01\u001b[0m0:01\u001b[0m:01\u001b[0m\n",
      "\u001b[?25hDownloading requests-2.32.3-py3-none-any.whl (64 kB)\n",
      "\u001b[2K   \u001b[38;2;114;156;31m━━━━━━━━━━━━━━━━━━━━━━━━━━━━━━━━━━━━━━━━\u001b[0m \u001b[32m64.9/64.9 kB\u001b[0m \u001b[31m3.0 MB/s\u001b[0m eta \u001b[36m0:00:00\u001b[0m\n",
      "\u001b[?25hDownloading websockets-13.1-cp311-cp311-macosx_11_0_arm64.whl (155 kB)\n",
      "\u001b[2K   \u001b[38;2;114;156;31m━━━━━━━━━━━━━━━━━━━━━━━━━━━━━━━━━━━━━━━━\u001b[0m \u001b[32m155.7/155.7 kB\u001b[0m \u001b[31m6.6 MB/s\u001b[0m eta \u001b[36m0:00:00\u001b[0m\n",
      "\u001b[?25hDownloading mutagen-1.47.0-py3-none-any.whl (194 kB)\n",
      "\u001b[2K   \u001b[38;2;114;156;31m━━━━━━━━━━━━━━━━━━━━━━━━━━━━━━━━━━━━━━━━\u001b[0m \u001b[32m194.4/194.4 kB\u001b[0m \u001b[31m8.2 MB/s\u001b[0m eta \u001b[36m0:00:00\u001b[0m\n",
      "\u001b[?25hDownloading pycryptodomex-3.20.0-cp35-abi3-macosx_10_9_universal2.whl (2.4 MB)\n",
      "\u001b[2K   \u001b[38;2;114;156;31m━━━━━━━━━━━━━━━━━━━━━━━━━━━━━━━━━━━━━━━━\u001b[0m \u001b[32m2.4/2.4 MB\u001b[0m \u001b[31m11.4 MB/s\u001b[0m eta \u001b[36m0:00:00\u001b[0m[36m0:00:01\u001b[0mm eta \u001b[36m0:00:01\u001b[0m\n",
      "\u001b[?25hInstalling collected packages: websockets, requests, pycryptodomex, mutagen, yt-dlp\n",
      "  Attempting uninstall: requests\n",
      "    Found existing installation: requests 2.31.0\n",
      "    Uninstalling requests-2.31.0:\n",
      "      Successfully uninstalled requests-2.31.0\n",
      "Successfully installed mutagen-1.47.0 pycryptodomex-3.20.0 requests-2.32.3 websockets-13.1 yt-dlp-2024.9.27\n",
      "Note: you may need to restart the kernel to use updated packages.\n",
      "Collecting git+https://github.com/openai/whisper.git\n",
      "  Cloning https://github.com/openai/whisper.git to /private/var/folders/jn/6v9ffl5x6gvf4y16kqq_wqgh0000gn/T/pip-req-build-wagi2xen\n",
      "  Running command git clone --filter=blob:none --quiet https://github.com/openai/whisper.git /private/var/folders/jn/6v9ffl5x6gvf4y16kqq_wqgh0000gn/T/pip-req-build-wagi2xen\n",
      "  Resolved https://github.com/openai/whisper.git to commit 25639fc17ddc013d56c594bfbf7644f2185fad84\n",
      "  Installing build dependencies ... \u001b[?25ldone\n",
      "\u001b[?25h  Getting requirements to build wheel ... \u001b[?25ldone\n",
      "\u001b[?25h  Preparing metadata (pyproject.toml) ... \u001b[?25ldone\n",
      "\u001b[?25hRequirement already satisfied: numba in /opt/homebrew/Caskroom/miniconda/base/lib/python3.11/site-packages (from openai-whisper==20240930) (0.60.0)\n",
      "Requirement already satisfied: numpy in /opt/homebrew/Caskroom/miniconda/base/lib/python3.11/site-packages (from openai-whisper==20240930) (1.26.4)\n",
      "Requirement already satisfied: torch in /opt/homebrew/Caskroom/miniconda/base/lib/python3.11/site-packages (from openai-whisper==20240930) (2.4.1)\n",
      "Requirement already satisfied: tqdm in /opt/homebrew/Caskroom/miniconda/base/lib/python3.11/site-packages (from openai-whisper==20240930) (4.66.2)\n",
      "Requirement already satisfied: more-itertools in /opt/homebrew/Caskroom/miniconda/base/lib/python3.11/site-packages (from openai-whisper==20240930) (10.5.0)\n",
      "Requirement already satisfied: tiktoken in /opt/homebrew/Caskroom/miniconda/base/lib/python3.11/site-packages (from openai-whisper==20240930) (0.7.0)\n",
      "Requirement already satisfied: llvmlite<0.44,>=0.43.0dev0 in /opt/homebrew/Caskroom/miniconda/base/lib/python3.11/site-packages (from numba->openai-whisper==20240930) (0.43.0)\n",
      "Requirement already satisfied: regex>=2022.1.18 in /opt/homebrew/Caskroom/miniconda/base/lib/python3.11/site-packages (from tiktoken->openai-whisper==20240930) (2023.12.25)\n",
      "Requirement already satisfied: requests>=2.26.0 in /opt/homebrew/Caskroom/miniconda/base/lib/python3.11/site-packages (from tiktoken->openai-whisper==20240930) (2.32.3)\n",
      "Requirement already satisfied: filelock in /opt/homebrew/Caskroom/miniconda/base/lib/python3.11/site-packages (from torch->openai-whisper==20240930) (3.13.1)\n",
      "Requirement already satisfied: typing-extensions>=4.8.0 in /opt/homebrew/Caskroom/miniconda/base/lib/python3.11/site-packages (from torch->openai-whisper==20240930) (4.9.0)\n",
      "Requirement already satisfied: sympy in /opt/homebrew/Caskroom/miniconda/base/lib/python3.11/site-packages (from torch->openai-whisper==20240930) (1.12)\n",
      "Requirement already satisfied: networkx in /opt/homebrew/Caskroom/miniconda/base/lib/python3.11/site-packages (from torch->openai-whisper==20240930) (3.2.1)\n",
      "Requirement already satisfied: jinja2 in /opt/homebrew/Caskroom/miniconda/base/lib/python3.11/site-packages (from torch->openai-whisper==20240930) (3.1.3)\n",
      "Requirement already satisfied: fsspec in /opt/homebrew/Caskroom/miniconda/base/lib/python3.11/site-packages (from torch->openai-whisper==20240930) (2024.2.0)\n",
      "Requirement already satisfied: charset-normalizer<4,>=2 in /opt/homebrew/Caskroom/miniconda/base/lib/python3.11/site-packages (from requests>=2.26.0->tiktoken->openai-whisper==20240930) (3.3.2)\n",
      "Requirement already satisfied: idna<4,>=2.5 in /opt/homebrew/Caskroom/miniconda/base/lib/python3.11/site-packages (from requests>=2.26.0->tiktoken->openai-whisper==20240930) (3.4)\n",
      "Requirement already satisfied: urllib3<3,>=1.21.1 in /opt/homebrew/Caskroom/miniconda/base/lib/python3.11/site-packages (from requests>=2.26.0->tiktoken->openai-whisper==20240930) (2.2.1)\n",
      "Requirement already satisfied: certifi>=2017.4.17 in /opt/homebrew/Caskroom/miniconda/base/lib/python3.11/site-packages (from requests>=2.26.0->tiktoken->openai-whisper==20240930) (2024.2.2)\n",
      "Requirement already satisfied: MarkupSafe>=2.0 in /opt/homebrew/Caskroom/miniconda/base/lib/python3.11/site-packages (from jinja2->torch->openai-whisper==20240930) (2.1.5)\n",
      "Requirement already satisfied: mpmath>=0.19 in /opt/homebrew/Caskroom/miniconda/base/lib/python3.11/site-packages (from sympy->torch->openai-whisper==20240930) (1.3.0)\n",
      "Note: you may need to restart the kernel to use updated packages.\n"
     ]
    }
   ],
   "source": [
    "%pip install torch torchvision torchaudio\n",
    "%pip install yt-dlp\n",
    "%pip install git+https://github.com/openai/whisper.git"
   ]
  },
  {
   "cell_type": "code",
   "execution_count": null,
   "id": "ea90585a-d73e-4683-a648-d4988d84a0f9",
   "metadata": {},
   "outputs": [
    {
     "name": "stdout",
     "output_type": "stream",
     "text": [
      "[youtube] Extracting URL: https://www.youtube.com/shorts/Q49z-vcvdHQ\n",
      "[youtube] Q49z-vcvdHQ: Downloading webpage\n",
      "[youtube] Q49z-vcvdHQ: Downloading ios player API JSON\n",
      "[youtube] Q49z-vcvdHQ: Downloading web creator player API JSON\n",
      "[youtube] Q49z-vcvdHQ: Downloading player d9418494\n",
      "[youtube] Q49z-vcvdHQ: Downloading m3u8 information\n",
      "[info] Q49z-vcvdHQ: Downloading 1 format(s): 140\n",
      "[download] Destination: audio/Q49z-vcvdHQ\n",
      "[download] 100% of  904.19KiB in 00:00:00 at 2.12MiB/s   \n",
      "[FixupM4a] Correcting container of \"audio/Q49z-vcvdHQ\"\n",
      "[ExtractAudio] Destination: audio/Q49z-vcvdHQ.mp3\n",
      "Deleting original file audio/Q49z-vcvdHQ (pass -k to keep)\n"
     ]
    },
    {
     "name": "stderr",
     "output_type": "stream",
     "text": [
      "  4%|█▋                                    | 128M/2.88G [00:11<04:07, 11.9MiB/s]"
     ]
    }
   ],
   "source": [
    "import os\n",
    "import yt_dlp  # YouTube 다운로더 라이브러리\n",
    "import whisper  # OpenAI의 Whisper 음성 인식 라이브러리\n",
    "\n",
    "# YouTube 동영상 다운로드 함수\n",
    "def download_video(video_id):\n",
    "    video_url = f'https://www.youtube.com/shorts/{video_id}'  # YouTube 동영상 URL 생성\n",
    "    output_path = f'audio/{video_id}'  # 다운로드된 오디오 파일의 저장 경로\n",
    "\n",
    "    if not os.path.isfile(output_path):  # 파일이 이미 존재하지 않는 경우\n",
    "        ydl_opts = {\n",
    "            'format': 'm4a/bestaudio/best',  # 최상의 오디오 포맷 설정\n",
    "            'outtmpl': output_path,  # 다운로드한 파일의 저장 경로 설정\n",
    "            'postprocessors': [{\n",
    "                'key': 'FFmpegExtractAudio',\n",
    "                'preferredcodec': 'mp3',  # 다운로드한 오디오를 mp3 포맷으로 변환\n",
    "            }]\n",
    "        }\n",
    "        with yt_dlp.YoutubeDL(ydl_opts) as ydl:\n",
    "            error_code = ydl.download([video_url])  # 동영상 다운로드 실행\n",
    "            if error_code != 0:  # 다운로드 중 오류가 발생한 경우\n",
    "                raise Exception('동영상 다운로드에 실패했습니다.')\n",
    "    return output_path + \".mp3\"  # 다운로드한 오디오 파일의 경로 반환\n",
    "\n",
    "# 오디오 파일을 텍스트로 변환하는 함수\n",
    "def transcribe_audio(audiofile):\n",
    "    model = whisper.load_model(\"large\")  # Whisper에서 \"large\" 모델 로드\n",
    "    result = model.transcribe(audiofile)  # 오디오 파일을 텍스트로 변환\n",
    "    return result[\"text\"]  # 변환된 텍스트 반환\n",
    "\n",
    "if __name__ == \"__main__\":\n",
    "    # YouTube 동영상 ID\n",
    "    youtube_video_id = \"Q49z-vcvdHQ\"\n",
    "    file_path = download_video(youtube_video_id)  # 동영상 다운로드 및 오디오 파일 경로 반환\n",
    "\n",
    "    # 텍스트로 변환할 언어 설정\n",
    "    language = \"ko\"  # 한국어로 설정\n",
    "\n",
    "    if os.path.isfile(file_path):  # 다운로드한 오디오 파일이 존재하는 경우\n",
    "        transcription = transcribe_audio(file_path)  # 오디오 파일을 텍스트로 변환\n",
    "        print(transcription)  # 변환된 텍스트 출력\n",
    "    else:\n",
    "        print(f\"파일 {file_path}을(를) 찾을 수 없습니다.\")  # 오디오 파일이 없는 경우 에러 메시지 출력"
   ]
  },
  {
   "cell_type": "code",
   "execution_count": null,
   "id": "4ff5cccc-e85a-48d4-9f28-e45a0c8b678b",
   "metadata": {},
   "outputs": [],
   "source": []
  }
 ],
 "metadata": {
  "kernelspec": {
   "display_name": "Python 3 (ipykernel)",
   "language": "python",
   "name": "python3"
  },
  "language_info": {
   "codemirror_mode": {
    "name": "ipython",
    "version": 3
   },
   "file_extension": ".py",
   "mimetype": "text/x-python",
   "name": "python",
   "nbconvert_exporter": "python",
   "pygments_lexer": "ipython3",
   "version": "3.11.5"
  }
 },
 "nbformat": 4,
 "nbformat_minor": 5
}
