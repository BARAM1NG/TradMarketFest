{
 "cells": [
  {
   "cell_type": "code",
   "execution_count": 1,
   "id": "24d54c3f-2ae3-4108-a888-31503387b7c5",
   "metadata": {},
   "outputs": [
    {
     "name": "stdout",
     "output_type": "stream",
     "text": [
      "/Users/baeahram/Desktop/2024 빅콘테스트 공모전\n"
     ]
    },
    {
     "name": "stderr",
     "output_type": "stream",
     "text": [
      "/opt/homebrew/Caskroom/miniconda/base/lib/python3.11/site-packages/IPython/core/magics/osm.py:417: UserWarning: using dhist requires you to install the `pickleshare` library.\n",
      "  self.shell.db['dhist'] = compress_dhist(dhist)[-100:]\n"
     ]
    }
   ],
   "source": [
    "cd '/Users/baeahram/Desktop/2024 빅콘테스트 공모전'"
   ]
  },
  {
   "cell_type": "code",
   "execution_count": 2,
   "id": "2b7c169d-dcc1-484d-bdab-b6d4aebeacc9",
   "metadata": {},
   "outputs": [],
   "source": [
    "import pandas as pd\n",
    "from glob import glob\n",
    "\n",
    "file_names = glob(\"data/od_20230901_10/*.csv\") #폴더 내의 모든 csv파일 목록을 불러온다\n",
    "total = pd.DataFrame() #빈 데이터프레임 하나를 생성한다\n",
    "\n",
    "for file_name in file_names:\n",
    "    temp = pd.read_csv(file_name, sep=',', encoding='utf-8') #csv파일을 하나씩 열어 임시 데이터프레임으로 생성한다\n",
    "    total = pd.concat([total, temp], ignore_index = True) #전체 데이터프레임에 추가하여 넣는다\n",
    "\n",
    "total.to_csv(\"data/od_20230901_10.csv\")"
   ]
  },
  {
   "cell_type": "code",
   "execution_count": 5,
   "id": "9eb4efe1-4dd7-4542-82c3-02a3deae276d",
   "metadata": {},
   "outputs": [],
   "source": [
    "file_names = glob(\"data/od_20230911_20/*.csv\") #폴더 내의 모든 csv파일 목록을 불러온다\n",
    "total = pd.DataFrame() #빈 데이터프레임 하나를 생성한다\n",
    "\n",
    "for file_name in file_names:\n",
    "    temp = pd.read_csv(file_name, sep=',', encoding='utf-8') #csv파일을 하나씩 열어 임시 데이터프레임으로 생성한다\n",
    "    total = pd.concat([total, temp], ignore_index = True) #전체 데이터프레임에 추가하여 넣는다\n",
    "\n",
    "total.to_csv(\"data/od_20230911_20.csv\")"
   ]
  },
  {
   "cell_type": "code",
   "execution_count": 12,
   "id": "622439c6-c202-4b2f-a70d-9a4d4e4642e6",
   "metadata": {},
   "outputs": [],
   "source": [
    "file_names = glob(\"data/od_20230921_30/*.csv\") #폴더 내의 모든 csv파일 목록을 불러온다\n",
    "total = pd.DataFrame() #빈 데이터프레임 하나를 생성한다\n",
    "\n",
    "for file_name in file_names:\n",
    "    temp = pd.read_csv(file_name, sep=',', encoding='utf-8') #csv파일을 하나씩 열어 임시 데이터프레임으로 생성한다\n",
    "    total = pd.concat([total, temp], ignore_index = True) #전체 데이터프레임에 추가하여 넣는다\n",
    "\n",
    "total.to_csv(\"data/od_20230921_30.csv\")"
   ]
  },
  {
   "cell_type": "code",
   "execution_count": 7,
   "id": "f4bdc3bd-153d-49d0-83fe-9258d0d04adc",
   "metadata": {},
   "outputs": [],
   "source": [
    "file_names = glob(\"data/od_20231001_15/*.csv\") #폴더 내의 모든 csv파일 목록을 불러온다\n",
    "total = pd.DataFrame() #빈 데이터프레임 하나를 생성한다\n",
    "\n",
    "for file_name in file_names:\n",
    "    temp = pd.read_csv(file_name, sep=',', encoding='utf-8') #csv파일을 하나씩 열어 임시 데이터프레임으로 생성한다\n",
    "    total = pd.concat([total, temp], ignore_index = True) #전체 데이터프레임에 추가하여 넣는다\n",
    "\n",
    "total.to_csv(\"data/od_20231001_15.csv\")"
   ]
  },
  {
   "cell_type": "code",
   "execution_count": 8,
   "id": "f961bef3-515c-42a9-a2eb-aefdd1a9c852",
   "metadata": {},
   "outputs": [],
   "source": [
    "file_names = glob(\"data/stay_20230901_10/*.csv\") #폴더 내의 모든 csv파일 목록을 불러온다\n",
    "total = pd.DataFrame() #빈 데이터프레임 하나를 생성한다\n",
    "\n",
    "for file_name in file_names:\n",
    "    temp = pd.read_csv(file_name, sep=',', encoding='utf-8') #csv파일을 하나씩 열어 임시 데이터프레임으로 생성한다\n",
    "    total = pd.concat([total, temp], ignore_index = True) #전체 데이터프레임에 추가하여 넣는다\n",
    "\n",
    "total.to_csv(\"data/stay_20230901_10.csv\")"
   ]
  },
  {
   "cell_type": "code",
   "execution_count": 9,
   "id": "1ee4660c-ad09-4a3d-a113-9cebe161964e",
   "metadata": {},
   "outputs": [],
   "source": [
    "file_names = glob(\"data/stay_20230911_20/*.csv\") #폴더 내의 모든 csv파일 목록을 불러온다\n",
    "total = pd.DataFrame() #빈 데이터프레임 하나를 생성한다\n",
    "\n",
    "for file_name in file_names:\n",
    "    temp = pd.read_csv(file_name, sep=',', encoding='utf-8') #csv파일을 하나씩 열어 임시 데이터프레임으로 생성한다\n",
    "    total = pd.concat([total, temp], ignore_index = True) #전체 데이터프레임에 추가하여 넣는다\n",
    "\n",
    "total.to_csv(\"data/stay_20230911_20.csv\")"
   ]
  },
  {
   "cell_type": "code",
   "execution_count": 10,
   "id": "ffa1272a-e38f-4ad0-9fb9-ac037fabad1e",
   "metadata": {},
   "outputs": [],
   "source": [
    "file_names = glob(\"data/stay_20230921_30/*.csv\") #폴더 내의 모든 csv파일 목록을 불러온다\n",
    "total = pd.DataFrame() #빈 데이터프레임 하나를 생성한다\n",
    "\n",
    "for file_name in file_names:\n",
    "    temp = pd.read_csv(file_name, sep=',', encoding='utf-8') #csv파일을 하나씩 열어 임시 데이터프레임으로 생성한다\n",
    "    total = pd.concat([total, temp], ignore_index = True) #전체 데이터프레임에 추가하여 넣는다\n",
    "\n",
    "total.to_csv(\"data/stay_20230921_30.csv\")"
   ]
  },
  {
   "cell_type": "code",
   "execution_count": 11,
   "id": "b41eca52-17d9-4eab-bfbd-1ce59e70c00c",
   "metadata": {},
   "outputs": [],
   "source": [
    "file_names = glob(\"data/stay_20231001_15/*.csv\") #폴더 내의 모든 csv파일 목록을 불러온다\n",
    "total = pd.DataFrame() #빈 데이터프레임 하나를 생성한다\n",
    "\n",
    "for file_name in file_names:\n",
    "    temp = pd.read_csv(file_name, sep=',', encoding='utf-8') #csv파일을 하나씩 열어 임시 데이터프레임으로 생성한다\n",
    "    total = pd.concat([total, temp], ignore_index = True) #전체 데이터프레임에 추가하여 넣는다\n",
    "\n",
    "total.to_csv(\"data/stay_20231001_15.csv\")"
   ]
  },
  {
   "cell_type": "code",
   "execution_count": null,
   "id": "9058e3f3-a37d-4ca9-951c-435a476a3826",
   "metadata": {},
   "outputs": [],
   "source": []
  }
 ],
 "metadata": {
  "kernelspec": {
   "display_name": "Python 3 (ipykernel)",
   "language": "python",
   "name": "python3"
  },
  "language_info": {
   "codemirror_mode": {
    "name": "ipython",
    "version": 3
   },
   "file_extension": ".py",
   "mimetype": "text/x-python",
   "name": "python",
   "nbconvert_exporter": "python",
   "pygments_lexer": "ipython3",
   "version": "3.11.5"
  }
 },
 "nbformat": 4,
 "nbformat_minor": 5
}
